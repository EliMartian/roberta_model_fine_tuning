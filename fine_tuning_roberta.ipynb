{
  "cells": [
    {
      "cell_type": "markdown",
      "metadata": {
        "id": "f1A8MhXtJTGi"
      },
      "source": [
        "# Setup"
      ]
    },
    {
      "cell_type": "code",
      "execution_count": null,
      "metadata": {
        "id": "gqZP7THdu4MS"
      },
      "outputs": [],
      "source": [
        "%%capture\n",
        "!pip show transformers\n",
        "!pip show accelerate\n",
        "!pip install transformers[torch] -U\n",
        "!pip install accelerate -U\n",
        "!pip install transformers\n",
        "!pip install pytorch-lightning\n",
        "!pip install --upgrade transformers"
      ]
    },
    {
      "cell_type": "markdown",
      "metadata": {
        "id": "ERNlGyweKUhm"
      },
      "source": [
        "# Preprocessing"
      ]
    },
    {
      "cell_type": "code",
      "execution_count": 36,
      "metadata": {
        "colab": {
          "base_uri": "https://localhost:8080/"
        },
        "id": "vfScIJapKW5X",
        "outputId": "b29c79bb-a6c1-42ee-ed7c-03c4fd3bec15"
      },
      "outputs": [
        {
          "output_type": "stream",
          "name": "stderr",
          "text": [
            "<ipython-input-36-82526e0c1a93>:21: DtypeWarning: Columns (15,16,17,18,19,20,21,22,23,24,25,26,27,28,29,39,40,41,42,43,44,45) have mixed types. Specify dtype option on import or set low_memory=False.\n",
            "  toxicity_train_df = pd.read_csv('toxicity_train.csv', on_bad_lines='skip', quoting=csv.QUOTE_NONE)\n",
            "<ipython-input-36-82526e0c1a93>:26: DtypeWarning: Columns (17,18,19,20,21,22,23,24,25,26) have mixed types. Specify dtype option on import or set low_memory=False.\n",
            "  toxicity_test_df = pd.read_csv('toxicity_test.csv', on_bad_lines='skip', quoting=csv.QUOTE_NONE)\n"
          ]
        },
        {
          "output_type": "stream",
          "name": "stdout",
          "text": [
            "\n",
            "Class distribution in training data after undersampling:\n",
            "0.0    13827\n",
            "1.0    10762\n",
            "Name: toxic, dtype: int64\n",
            "\n",
            "Class distribution in test data before undersampling:\n",
            "0.0    6248\n",
            "1.0    1039\n",
            "Name: toxic, dtype: int64\n"
          ]
        }
      ],
      "source": [
        "import csv\n",
        "import pandas as pd\n",
        "import numpy as np\n",
        "import matplotlib.pyplot as plt\n",
        "import torch\n",
        "import torch.nn.functional as F\n",
        "from torch.utils.data import Dataset\n",
        "from transformers import Trainer, TrainingArguments\n",
        "from sklearn.model_selection import train_test_split\n",
        "from transformers import AutoTokenizer, AutoModelForSequenceClassification\n",
        "\n",
        "\n",
        "# 1. Prepare Dataset\n",
        "# 2. Load pretrained Tokenizer, call it with dataset -> encoding\n",
        "# 3. Build PyTorth Dataset with encodings\n",
        "# 4. Load pretrained Model\n",
        "# 5. Load HF Trainer and train it\n",
        "\n",
        "\n",
        "# Train Data - 52662 rows after pre-processing (done above)\n",
        "toxicity_train_df = pd.read_csv('toxicity_train.csv', on_bad_lines='skip', quoting=csv.QUOTE_NONE)\n",
        "toxicity_train_df = toxicity_train_df.dropna()\n",
        "\n",
        "\n",
        "# Test Data - 7287 rows after pre-processing\n",
        "toxicity_test_df = pd.read_csv('toxicity_test.csv', on_bad_lines='skip', quoting=csv.QUOTE_NONE)\n",
        "toxicity_test_df = toxicity_test_df.dropna()\n",
        "\n",
        "\n",
        "# Sampling for CPU use\n",
        "# fraction = 0.1\n",
        "\n",
        "# toxicity_train_df = toxicity_train_df.sample(frac=fraction, random_state=42)\n",
        "# toxicity_test_df = toxicity_test_df.sample(frac=fraction, random_state=42)\n",
        "\n",
        "# # Reset index for consistency\n",
        "# toxicity_train_df.reset_index(drop=True, inplace=True)\n",
        "# toxicity_test_df.reset_index(drop=True, inplace=True)\n",
        "\n",
        "# List of categories to check\n",
        "categories_to_check = ['obscene', 'sexual_explicit', 'threat', 'insult', 'identity_attack']\n",
        "\n",
        "# Check if any category is above the 0.5 threshold\n",
        "toxicity_train_df[categories_to_check] = toxicity_train_df[categories_to_check].apply(pd.to_numeric, errors='coerce')\n",
        "toxicity_test_df[categories_to_check] = toxicity_test_df[categories_to_check].apply(pd.to_numeric, errors='coerce')\n",
        "\n",
        "# Check if any category is above the 0.5 threshold\n",
        "toxicity_train_df['toxic'] = (toxicity_train_df[categories_to_check] >= 0.5).any(axis=1).astype(float)\n",
        "toxicity_test_df['toxic'] = (toxicity_test_df[categories_to_check] >= 0.5).any(axis=1).astype(float)\n",
        "\n",
        "# Convert boolean values to 1.0 for True and 0.0 for False\n",
        "toxicity_train_df['toxic'] = toxicity_train_df['toxic'].astype(float)\n",
        "toxicity_test_df['toxic'] = toxicity_test_df['toxic'].astype(float)\n",
        "\n",
        "toxicity_train_df = toxicity_train_df[['comment_text', 'toxic', 'obscene', 'sexual_explicit', 'threat', 'insult', 'identity_attack']]\n",
        "toxicity_test_df = toxicity_test_df[['comment_text', 'toxic', 'obscene', 'sexual_explicit', 'threat', 'insult', 'identity_attack']]\n",
        "\n",
        "\n",
        "# Fraction of the majority class you want to keep (e.g., 0.2 for 20%)\n",
        "undersample_fraction = 0.33\n",
        "\n",
        "# Separate the majority and minority classes in training data\n",
        "majority_class_train = toxicity_train_df[toxicity_train_df['toxic'] == 0]\n",
        "minority_class_train = toxicity_train_df[toxicity_train_df['toxic'] == 1]\n",
        "\n",
        "# Undersample the majority class in training data\n",
        "undersampled_majority_class_train = majority_class_train.sample(frac=undersample_fraction, random_state=42)\n",
        "\n",
        "# Concatenate the undersampled majority class with the minority class in training data\n",
        "undersampled_train_df = pd.concat([undersampled_majority_class_train, minority_class_train])\n",
        "\n",
        "# Shuffle the undersampled training dataframe\n",
        "toxicity_train_df = undersampled_train_df.sample(frac=1, random_state=42).reset_index(drop=True)\n",
        "\n",
        "# Separate the majority and minority classes in test data\n",
        "majority_class_test = toxicity_test_df[toxicity_test_df['toxic'] == 0]\n",
        "minority_class_test = toxicity_test_df[toxicity_test_df['toxic'] == 1]\n",
        "\n",
        "# Display the class distribution before and after undersampling\n",
        "print(\"\\nClass distribution in training data after undersampling:\")\n",
        "print(toxicity_train_df['toxic'].value_counts())\n",
        "\n",
        "print(\"\\nClass distribution in test data before undersampling:\")\n",
        "print(toxicity_test_df['toxic'].value_counts())"
      ]
    },
    {
      "cell_type": "markdown",
      "metadata": {
        "id": "ckNEOfOt7JY0"
      },
      "source": [
        "Test Lengths of DFs"
      ]
    },
    {
      "cell_type": "code",
      "execution_count": 37,
      "metadata": {
        "colab": {
          "base_uri": "https://localhost:8080/"
        },
        "id": "iEr4-GKc7LG4",
        "outputId": "67951b10-7420-48e1-c1b2-32ad648ef2c2"
      },
      "outputs": [
        {
          "output_type": "stream",
          "name": "stdout",
          "text": [
            "24589\n",
            "7287\n"
          ]
        }
      ],
      "source": [
        "print(len(toxicity_train_df))\n",
        "print(len(toxicity_test_df))"
      ]
    },
    {
      "cell_type": "markdown",
      "metadata": {
        "id": "bCaSSAkv-L2D"
      },
      "source": [
        "# Visualization of toxicity in train"
      ]
    },
    {
      "cell_type": "code",
      "execution_count": 38,
      "metadata": {
        "colab": {
          "base_uri": "https://localhost:8080/",
          "height": 430
        },
        "id": "Wh3Wr23h-Nwl",
        "outputId": "584b5064-a54a-4434-9828-245cbd7ef116"
      },
      "outputs": [
        {
          "output_type": "display_data",
          "data": {
            "text/plain": [
              "<Figure size 640x480 with 1 Axes>"
            ],
            "image/png": "[encoded data removed]"
          },
          "metadata": {}
        }
      ],
      "source": [
        "# Count toxic and non-toxic comments\n",
        "toxic_count = toxicity_train_df['toxic'].sum()\n",
        "non_toxic_count = len(toxicity_train_df) - toxic_count\n",
        "\n",
        "# Plot side-by-side bars for toxic and non-toxic comments\n",
        "labels = ['Toxic Comments', 'Non-Toxic Comments']\n",
        "counts = [toxic_count, non_toxic_count]\n",
        "\n",
        "plt.bar(labels, counts, color=['red', 'blue'])\n",
        "plt.ylabel('Comment Count')\n",
        "\n",
        "plt.show()"
      ]
    },
    {
      "cell_type": "markdown",
      "metadata": {
        "id": "bQBDfIDTAVmi"
      },
      "source": [
        "# Visualization of toxicity in test"
      ]
    },
    {
      "cell_type": "code",
      "execution_count": 39,
      "metadata": {
        "colab": {
          "base_uri": "https://localhost:8080/",
          "height": 430
        },
        "id": "vMgpw28TAYN6",
        "outputId": "8ec44e22-8802-41b8-a069-c32f7760301e"
      },
      "outputs": [
        {
          "output_type": "display_data",
          "data": {
            "text/plain": [
              "<Figure size 640x480 with 1 Axes>"
            ],
            "image/png": "[encoded data removed]"
          },
          "metadata": {}
        }
      ],
      "source": [
        "# Count toxic and non-toxic comments\n",
        "toxic_count = toxicity_test_df['toxic'].sum()\n",
        "non_toxic_count = len(toxicity_test_df) - toxic_count\n",
        "\n",
        "# Plot side-by-side bars for toxic and non-toxic comments\n",
        "labels = ['Toxic Comments', 'Non-Toxic Comments']\n",
        "counts = [toxic_count, non_toxic_count]\n",
        "\n",
        "plt.bar(labels, counts, color=['red', 'blue'])\n",
        "plt.ylabel('Comment Count')\n",
        "\n",
        "plt.show()"
      ]
    },
    {
      "cell_type": "markdown",
      "metadata": {
        "id": "zWP0mBB9ZFf4"
      },
      "source": [
        "# Splitting and Labelling"
      ]
    },
    {
      "cell_type": "code",
      "execution_count": 40,
      "metadata": {
        "colab": {
          "base_uri": "https://localhost:8080/"
        },
        "id": "6LUVKLSjZKHn",
        "outputId": "40f8aeb8-9ded-4c4d-f954-d8d21ec8483f"
      },
      "outputs": [
        {
          "output_type": "stream",
          "name": "stdout",
          "text": [
            "train_texts:\n",
            "[' whereas sexuality is innate. If anybody is forcing an \"\"unnatural lifestyle\"\" on society', ' you should read them sometime.\"', ' is an outstanding piece of work', ' George W did', ' so the goal is exactly that - 0% unfounded cases and 100% conviction rate.\"']\n",
            "train_labels:\n",
            "   toxic\n",
            "0    0.0\n",
            "1    0.0\n",
            "2    0.0\n",
            "3    1.0\n",
            "4    0.0\n",
            "test_texts\n",
            "['BS !', 'Hodad...does your user handle refer to your daughter??', \"Many of them were wearing red Na'i Aupuni shirts.  Does that not show support for federal recognition?\", '\"Methinks your comment is indicative of your need to understand the Christian faith which does not require the subservience of woman as much as care and love for them by the man - \"\"as Christ loved the church\"\".\"', \"And sometimes it's just salting the earth...\"]\n",
            "test_labels:\n",
            "   toxic\n",
            "0    0.0\n",
            "1    0.0\n",
            "2    0.0\n",
            "3    0.0\n",
            "4    0.0\n"
          ]
        }
      ],
      "source": [
        "model_name = \"roberta-base\"\n",
        "\n",
        "toxicity_train_df.reset_index(drop=True, inplace=True)\n",
        "toxicity_test_df.reset_index(drop=True, inplace=True)\n",
        "\n",
        "X_train = toxicity_train_df[['comment_text']].reset_index(drop=True)\n",
        "X_train = X_train.dropna()\n",
        "\n",
        "# y_train = toxicity_train_df[['obscene', 'identity_attack', 'insult', 'threat', 'sexual_explicit']]\n",
        "y_train = toxicity_train_df[['toxic']].reset_index(drop=True)\n",
        "y_train = y_train.dropna()\n",
        "# toxicity_train_df.info()\n",
        "\n",
        "\n",
        "# toxicity_test_df.info()\n",
        "X_test = toxicity_test_df[['comment_text']].reset_index(drop=True)\n",
        "X_test = X_test.dropna()\n",
        "# # y_test = toxicity_test_df[['obscene', 'identity_attack', 'insult', 'threat', 'sexual_explicit']]\n",
        "y_test = toxicity_test_df[['toxic']].reset_index(drop=True)\n",
        "y_test = y_test.dropna()\n",
        "\n",
        "\n",
        "train_texts = X_train['comment_text'].tolist()\n",
        "train_labels = y_train\n",
        "test_texts = X_test['comment_text'].tolist()\n",
        "test_labels = y_test\n",
        "\n",
        "# See examples of texts & labels\n",
        "print(\"train_texts:\")\n",
        "print(train_texts[:5])\n",
        "print(\"train_labels:\")\n",
        "print(train_labels[:5])\n",
        "print(\"test_texts\")\n",
        "print(test_texts[:5])\n",
        "print(\"test_labels:\")\n",
        "print(test_labels[:5])\n",
        "\n",
        "train_texts, val_texts, train_labels, val_labels = train_test_split(train_texts, train_labels, test_size=0.2, random_state=42)"
      ]
    },
    {
      "cell_type": "markdown",
      "metadata": {
        "id": "7PaVNtTit2tc"
      },
      "source": [
        "# Dataset"
      ]
    },
    {
      "cell_type": "code",
      "execution_count": 41,
      "metadata": {
        "id": "m54fSxNKt4oC"
      },
      "outputs": [],
      "source": [
        "from torch.utils.data import Dataset, DataLoader\n",
        "from transformers import RobertaTokenizer, RobertaModel\n",
        "\n",
        "\n",
        "class ToxicDataset(Dataset):\n",
        "    def __init__(self, encodings, labels):\n",
        "        self.encodings = encodings\n",
        "        self.labels = labels\n",
        "\n",
        "    def __getitem__(self, idx):\n",
        "        item = {key: torch.tensor(val[idx]) for key, val in self.encodings.items()}\n",
        "        item['labels'] = torch.tensor(self.labels[idx]).float()\n",
        "        return item\n",
        "\n",
        "    def __len__(self):\n",
        "        return len(self.labels)\n",
        "\n",
        "tokenizer = RobertaTokenizer.from_pretrained('roberta-base')\n",
        "train_encodings = tokenizer(train_texts, truncation=True, padding=True)\n",
        "val_encodings = tokenizer(val_texts, truncation=True, padding=True)\n",
        "test_encodings = tokenizer(test_texts, truncation=True, padding=True)\n",
        "\n",
        "train_labels = train_labels['toxic'].reset_index(drop=True)\n",
        "val_labels = val_labels['toxic'].reset_index(drop=True)\n",
        "test_labels = test_labels['toxic'].reset_index(drop=True)\n",
        "\n",
        "# Convert Pandas Series to lists\n",
        "train_labels_list = train_labels.tolist()\n",
        "val_labels_list = val_labels.tolist()\n",
        "test_labels_list = test_labels.tolist()\n",
        "\n",
        "train_dataset = ToxicDataset(train_encodings, train_labels)\n",
        "val_dataset = ToxicDataset(val_encodings, val_labels)\n",
        "test_dataset = ToxicDataset(test_encodings, test_labels)"
      ]
    },
    {
      "cell_type": "markdown",
      "metadata": {
        "id": "4spOoBGGwLqb"
      },
      "source": [
        "# Tokenizer + Encodings + Training"
      ]
    },
    {
      "cell_type": "code",
      "execution_count": 45,
      "metadata": {
        "colab": {
          "base_uri": "https://localhost:8080/",
          "height": 191
        },
        "id": "gLsm7774wWa5",
        "outputId": "93ba892e-70de-43ee-c5a3-d9119d70e8c4"
      },
      "outputs": [
        {
          "output_type": "stream",
          "name": "stderr",
          "text": [
            "Some weights of RobertaForSequenceClassification were not initialized from the model checkpoint at roberta-base and are newly initialized: ['classifier.dense.bias', 'classifier.dense.weight', 'classifier.out_proj.bias', 'classifier.out_proj.weight']\n",
            "You should probably TRAIN this model on a down-stream task to be able to use it for predictions and inference.\n"
          ]
        },
        {
          "output_type": "display_data",
          "data": {
            "text/plain": [
              "<IPython.core.display.HTML object>"
            ],
            "text/html": [
              "\n",
              "    <div>\n",
              "      \n",
              "      <progress value='2000' max='2460' style='width:300px; height:20px; vertical-align: middle;'></progress>\n",
              "      [2000/2460 22:55 < 05:16, 1.45 it/s, Epoch 1/2]\n",
              "    </div>\n",
              "    <table border=\"1\" class=\"dataframe\">\n",
              "  <thead>\n",
              " <tr style=\"text-align: left;\">\n",
              "      <th>Step</th>\n",
              "      <th>Training Loss</th>\n",
              "      <th>Validation Loss</th>\n",
              "    </tr>\n",
              "  </thead>\n",
              "  <tbody>\n",
              "    <tr>\n",
              "      <td>1000</td>\n",
              "      <td>0.243600</td>\n",
              "      <td>0.213058</td>\n",
              "    </tr>\n",
              "    <tr>\n",
              "      <td>2000</td>\n",
              "      <td>0.212600</td>\n",
              "      <td>0.211219</td>\n",
              "    </tr>\n",
              "  </tbody>\n",
              "</table><p>"
            ]
          },
          "metadata": {}
        }
      ],
      "source": [
        "from transformers import EarlyStoppingCallback, Trainer, TrainingArguments\n",
        "\n",
        "# training_args = TrainingArguments(\n",
        "#     output_dir='./results',\n",
        "#     num_train_epochs=1,\n",
        "#     per_device_train_batch_size=4,\n",
        "#     per_device_eval_batch_size=16,\n",
        "#     warmup_steps=100,\n",
        "#     learning_rate=1e-4,\n",
        "#     weight_decay=0.01,\n",
        "#     logging_dir='./logs',\n",
        "#     logging_steps=5000,\n",
        "#     evaluation_strategy=\"steps\",\n",
        "#     eval_steps=5000,\n",
        "#     save_strategy=\"steps\",\n",
        "#     load_best_model_at_end=True,\n",
        "#     metric_for_best_model=\"eval_loss\",\n",
        "# )\n",
        "\n",
        "training_args = TrainingArguments(\n",
        "    output_dir='./results',\n",
        "    num_train_epochs=2,\n",
        "    per_device_train_batch_size=16,\n",
        "    per_device_eval_batch_size=64,\n",
        "    warmup_steps=100,\n",
        "    learning_rate=1e-5,\n",
        "    weight_decay=0.01,\n",
        "    logging_dir='./logs',\n",
        "    logging_steps=1000,\n",
        "    evaluation_strategy=\"steps\",\n",
        "    save_strategy=\"steps\",\n",
        "    save_steps=1000,  # Set save_steps to the same value as logging_steps\n",
        "    load_best_model_at_end=True,\n",
        "    metric_for_best_model=\"eval_loss\",\n",
        ")\n",
        "\n",
        "model = AutoModelForSequenceClassification.from_pretrained('roberta-base', num_labels=1)\n",
        "\n",
        "trainer = Trainer(\n",
        "    model=model,\n",
        "    args=training_args,\n",
        "    train_dataset=train_dataset,\n",
        "    eval_dataset=val_dataset,\n",
        "    tokenizer=tokenizer,\n",
        "    callbacks=[EarlyStoppingCallback(early_stopping_patience=1, early_stopping_threshold=0.02)],\n",
        ")\n",
        "trainer.train()\n",
        "\n",
        "model.save_pretrained('/results/fine_tuned_roberta_model')\n",
        "\n",
        "# text = \"Replace me by any text you'd like.\"\n",
        "# encoded_input = tokenizer(text, return_tensors='pt')\n",
        "# output = model(**encoded_input)\n"
      ]
    },
    {
      "cell_type": "markdown",
      "metadata": {
        "id": "JcEulzfF5at2"
      },
      "source": [
        "# Evaluation"
      ]
    },
    {
      "cell_type": "code",
      "execution_count": 47,
      "metadata": {
        "id": "yRuSNgIQ5fz1",
        "colab": {
          "base_uri": "https://localhost:8080/",
          "height": 360
        },
        "outputId": "28c84a2d-a56f-4402-c912-0cf0cb9d3983"
      },
      "outputs": [
        {
          "output_type": "display_data",
          "data": {
            "text/plain": [
              "<IPython.core.display.HTML object>"
            ],
            "text/html": []
          },
          "metadata": {}
        },
        {
          "output_type": "stream",
          "name": "stdout",
          "text": [
            "{'eval_loss': 0.21121858060359955, 'eval_runtime': 46.1438, 'eval_samples_per_second': 106.58, 'eval_steps_per_second': 1.669, 'epoch': 1.63}\n",
            "Accuracy: 0.5664904432696218\n",
            "              precision    recall  f1-score   support\n",
            "\n",
            "         0.0       0.57      1.00      0.72      2786\n",
            "         1.0       0.00      0.00      0.00      2132\n",
            "\n",
            "    accuracy                           0.57      4918\n",
            "   macro avg       0.28      0.50      0.36      4918\n",
            "weighted avg       0.32      0.57      0.41      4918\n",
            "\n",
            "True Label Counts (Class 0 and 1): [2786 2132]\n",
            "Predicted Label Counts (Class 0 and 1): [4918]\n"
          ]
        },
        {
          "output_type": "stream",
          "name": "stderr",
          "text": [
            "/usr/local/lib/python3.10/dist-packages/sklearn/metrics/_classification.py:1344: UndefinedMetricWarning: Precision and F-score are ill-defined and being set to 0.0 in labels with no predicted samples. Use `zero_division` parameter to control this behavior.\n",
            "  _warn_prf(average, modifier, msg_start, len(result))\n",
            "/usr/local/lib/python3.10/dist-packages/sklearn/metrics/_classification.py:1344: UndefinedMetricWarning: Precision and F-score are ill-defined and being set to 0.0 in labels with no predicted samples. Use `zero_division` parameter to control this behavior.\n",
            "  _warn_prf(average, modifier, msg_start, len(result))\n",
            "/usr/local/lib/python3.10/dist-packages/sklearn/metrics/_classification.py:1344: UndefinedMetricWarning: Precision and F-score are ill-defined and being set to 0.0 in labels with no predicted samples. Use `zero_division` parameter to control this behavior.\n",
            "  _warn_prf(average, modifier, msg_start, len(result))\n"
          ]
        }
      ],
      "source": [
        "from sklearn.metrics import accuracy_score, classification_report\n",
        "\n",
        "# Use the trained model for evaluation\n",
        "eval_results = trainer.evaluate()\n",
        "\n",
        "# Print evaluation results\n",
        "print(eval_results)\n",
        "\n",
        "# Make predictions on the validation set\n",
        "predictions = trainer.predict(val_dataset)\n",
        "\n",
        "# Convert predictions to probabilities and get class labels\n",
        "predicted_probabilities = torch.nn.functional.softmax(torch.tensor(predictions.predictions), dim=1)\n",
        "predicted_labels = torch.argmax(predicted_probabilities, dim=1)\n",
        "\n",
        "# Flatten the true labels\n",
        "true_labels = val_labels.values.flatten()\n",
        "\n",
        "# Calculate accuracy and print classification report\n",
        "accuracy = accuracy_score(true_labels, predicted_labels)\n",
        "print(f\"Accuracy: {accuracy}\")\n",
        "print(classification_report(true_labels, predicted_labels))\n",
        "\n",
        "\n",
        "\n",
        "# Count occurrences of each class in true labels\n",
        "true_label_counts = np.bincount(true_labels.astype(int))\n",
        "\n",
        "# Count occurrences of each class in predicted labels\n",
        "predicted_label_counts = np.bincount(predicted_labels.numpy().astype(int))\n",
        "\n",
        "# Print the counts\n",
        "print(\"True Label Counts (Class 0 and 1):\", true_label_counts)\n",
        "print(\"Predicted Label Counts (Class 0 and 1):\", predicted_label_counts)"
      ]
    },
    {
      "cell_type": "markdown",
      "metadata": {
        "id": "vB7-tPE46AzI"
      },
      "source": [
        "# Predictions on Twitch Dataset"
      ]
    },
    {
      "cell_type": "code",
      "execution_count": 48,
      "metadata": {
        "id": "eA8lhxmU6C7T",
        "colab": {
          "base_uri": "https://localhost:8080/"
        },
        "outputId": "385b69f2-1780-46ff-84f9-2d4a6b4a3f81"
      },
      "outputs": [
        {
          "output_type": "stream",
          "name": "stdout",
          "text": [
            "           user                                       comment_text toxic\n",
            "0    firstdjinn  Confused why people are spamming things like J...    no\n",
            "1        zCrean       Nice thats my first time in Hasan Lifestream    no\n",
            "2     AfroTohru     THE ONE PIECE IS REAL LETSGO NEWS TODAY LETSGO    no\n",
            "3  Julian4Mayor  Dont forget to check ur cocks before stream st...    no\n",
            "4   RogueStereo  THE HASANABI IS REAL LETSGO THE HASANABI IS RE...    no\n",
            "5   eddyeduardo        hey guys I'm finally here early, I love you    no\n",
            "<class 'pandas.core.frame.DataFrame'>\n",
            "RangeIndex: 11449 entries, 0 to 11448\n",
            "Data columns (total 3 columns):\n",
            " #   Column        Non-Null Count  Dtype \n",
            "---  ------        --------------  ----- \n",
            " 0   user          11449 non-null  object\n",
            " 1   comment_text  11449 non-null  object\n",
            " 2   toxic         11449 non-null  object\n",
            "dtypes: object(3)\n",
            "memory usage: 268.5+ KB\n",
            "None\n",
            "                                          comment_text roberta_prediction  \\\n",
            "0    Confused why people are spamming things like J...                 no   \n",
            "1         Nice thats my first time in Hasan Lifestream                 no   \n",
            "2       THE ONE PIECE IS REAL LETSGO NEWS TODAY LETSGO                 no   \n",
            "3    Dont forget to check ur cocks before stream st...                 no   \n",
            "4    THE HASANABI IS REAL LETSGO THE HASANABI IS RE...                 no   \n",
            "..                                                 ...                ...   \n",
            "295  i might be blind but i think your beard looks ...                 no   \n",
            "296  ONE PIECE UPDATE ONE PIECE UPDATE ONE PIECE UP...                 no   \n",
            "297  @HasanAbi Show us those gaming skills our gami...                 no   \n",
            "298  my favorite twitch streamer and my favorite yo...                 no   \n",
            "299          u got a lot of grays @HasanAbi no offense                 no   \n",
            "\n",
            "    toxic  \n",
            "0      no  \n",
            "1      no  \n",
            "2      no  \n",
            "3      no  \n",
            "4      no  \n",
            "..    ...  \n",
            "295   yes  \n",
            "296    no  \n",
            "297    no  \n",
            "298    no  \n",
            "299    no  \n",
            "\n",
            "[300 rows x 3 columns]\n",
            "Count of 'no': 300\n",
            "Count of 'yes': 0\n"
          ]
        }
      ],
      "source": [
        "import pandas as pd\n",
        "from transformers import RobertaTokenizer, AutoModelForSequenceClassification\n",
        "from transformers import pipeline\n",
        "\n",
        "# Load the fine-tuned model for inference\n",
        "tokenizer = RobertaTokenizer.from_pretrained('/content/results/checkpoint-2000/')\n",
        "model = AutoModelForSequenceClassification.from_pretrained('/content/results/checkpoint-2000/')\n",
        "\n",
        "twitch_df = pd.read_csv('twitch_toxicity.csv')\n",
        "print(twitch_df.head(6))\n",
        "print(twitch_df.info())\n",
        "\n",
        "# Create a text classification pipeline\n",
        "classifier = pipeline('text-classification', model=model, tokenizer=tokenizer)\n",
        "\n",
        "# Example function to apply the classifier to each row in the DataFrame\n",
        "# count = 0\n",
        "\n",
        "# Function to convert LABEL_0 to 'no'\n",
        "def convert_label(prediction):\n",
        "    return 'no' if prediction[0]['label'] == 'LABEL_0' else 'yes'\n",
        "\n",
        "# Example function to apply the classifier to each row in the DataFrame\n",
        "def predict_label(row):\n",
        "    text_to_predict = row['comment_text']\n",
        "    prediction = classifier(text_to_predict)\n",
        "    return convert_label(prediction)\n",
        "\n",
        "# Apply the prediction function to each row in the DataFrame\n",
        "twitch_df['roberta_prediction'] = twitch_df.head(300).apply(predict_label, axis=1)\n",
        "# twitch_df['roberta_prediction'] = twitch_df.apply(predict_label, axis=1)\n",
        "\n",
        "# Display the DataFrame with predictions\n",
        "print(twitch_df.head(300)[['comment_text', 'roberta_prediction', 'toxic']])\n",
        "\n",
        "# Assuming 'LABEL_0' corresponds to 'no'\n",
        "prediction_counts = twitch_df.head(300)['roberta_prediction'].value_counts()\n",
        "\n",
        "# Print the counts\n",
        "print(\"Count of 'no':\", prediction_counts.get('no', 0))\n",
        "print(\"Count of 'yes':\", prediction_counts.get('yes', 0))  # Adjust the label if needed\n"
      ]
    },
    {
      "cell_type": "code",
      "source": [],
      "metadata": {
        "id": "Yqw8qYpfmtl_"
      },
      "execution_count": null,
      "outputs": []
    }
  ],
  "metadata": {
    "colab": {
      "provenance": [],
      "gpuType": "T4"
    },
    "kernelspec": {
      "display_name": "Python 3",
      "name": "python3"
    },
    "language_info": {
      "name": "python"
    },
    "accelerator": "GPU"
  },
  "nbformat": 4,
  "nbformat_minor": 0
}